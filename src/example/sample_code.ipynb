{
 "cells": [
  {
   "cell_type": "markdown",
   "metadata": {},
   "source": [
    "# Llama-index Examples\n",
    "\n",
    "- [ドキュメント](https://docs.llamaindex.ai/en/stable/examples/query_engine/knowledge_graph_query_engine/?h=knowl)の内容を実行する\n",
    "- [Nebula Graph](https://www.nebula-graph.io/)の使い方を調べる"
   ]
  }
 ],
 "metadata": {
  "language_info": {
   "name": "python"
  }
 },
 "nbformat": 4,
 "nbformat_minor": 2
}
