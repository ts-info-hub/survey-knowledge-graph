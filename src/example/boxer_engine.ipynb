{
 "cells": [
  {
   "cell_type": "code",
   "execution_count": 34,
   "metadata": {},
   "outputs": [],
   "source": [
    "# OpenAIの作成\n",
    "\n",
    "from llama_index.llms.openai import OpenAI\n",
    "from llama_index.core import Settings\n",
    "from llama_index.core.callbacks import LlamaDebugHandler, CallbackManager\n",
    "\n",
    "llama_debug_handler = LlamaDebugHandler(print_trace_on_end=False)\n",
    "callback_manager = CallbackManager([llama_debug_handler])\n",
    "\n",
    "Settings.llm = OpenAI(temperature=0, model=\"gpt-3.5-turbo\")\n",
    "Settings.chunk_size = 512\n",
    "Settings.callback_manager = callback_manager"
   ]
  },
  {
   "cell_type": "code",
   "execution_count": 35,
   "metadata": {},
   "outputs": [],
   "source": [
    "# Nebula Graphのコンフィグ\n",
    "\n",
    "import os\n",
    "\n",
    "os.environ[\"NEBULA_USER\"] = \"root\"\n",
    "os.environ[\"NEBULA_PASSWORD\"] = \"nebula\"  # default is \"nebula\"\n",
    "os.environ[\"NEBULA_ADDRESS\"] = (\n",
    "    \"127.0.0.1:9669\"  # assumed we have NebulaGraph installed locally\n",
    ")\n",
    "\n",
    "space_name = \"boxerengine\"\n",
    "edge_types, rel_prop_names = [\"relationship\"], [\n",
    "    \"relationship\"\n",
    "]  # default, could be omit if create from an empty kg\n",
    "tags = [\"entity\"]  # default, could be omit if create from an empty kg"
   ]
  },
  {
   "cell_type": "code",
   "execution_count": 36,
   "metadata": {},
   "outputs": [],
   "source": [
    "# NebulaGraphの接続\n",
    "# 「llamaindexのスペースの作成手順」を実施後に実行する\n",
    "\n",
    "from llama_index.core import StorageContext\n",
    "from llama_index.graph_stores.nebula import NebulaGraphStore\n",
    "\n",
    "graph_store = NebulaGraphStore(\n",
    "    space_name=space_name,\n",
    "    edge_types=edge_types,\n",
    "    rel_prop_names=rel_prop_names,\n",
    "    tags=tags,\n",
    ")\n",
    "storage_context = StorageContext.from_defaults(graph_store=graph_store)"
   ]
  },
  {
   "cell_type": "code",
   "execution_count": 37,
   "metadata": {},
   "outputs": [],
   "source": [
    "# Documentのサンプル情報を取得する\n",
    "\n",
    "from llama_index.readers.wikipedia import WikipediaReader\n",
    "\n",
    "loader = WikipediaReader()\n",
    "documents = loader.load_data(\n",
    "    pages=[\"水平対向エンジン\"], auto_suggest=False, lang_prefix=\"ja\"\n",
    ")"
   ]
  },
  {
   "cell_type": "code",
   "execution_count": 38,
   "metadata": {},
   "outputs": [],
   "source": [
    "# KnowledgeGraphIndexを構築する\n",
    "\n",
    "from llama_index.core import KnowledgeGraphIndex\n",
    "\n",
    "kg_index = KnowledgeGraphIndex.from_documents(\n",
    "    documents,\n",
    "    storage_context=storage_context,\n",
    "    max_triplets_per_chunk=10,\n",
    "    # space_name=space_name,\n",
    "    # edge_types=edge_types,\n",
    "    # rel_prop_names=rel_prop_names,\n",
    "    # tags=tags,\n",
    "    include_embeddings=True,\n",
    ")"
   ]
  },
  {
   "cell_type": "code",
   "execution_count": 39,
   "metadata": {},
   "outputs": [
    {
     "name": "stdout",
     "output_type": "stream",
     "text": [
      "The ngql extension is already loaded. To reload it, use:\n",
      "  %reload_ext ngql\n",
      "\u001b[1;3;38;2;47;75;124mConnection Pool Created\u001b[0m\n"
     ]
    },
    {
     "data": {
      "text/html": [
       "<div>\n",
       "<style scoped>\n",
       "    .dataframe tbody tr th:only-of-type {\n",
       "        vertical-align: middle;\n",
       "    }\n",
       "\n",
       "    .dataframe tbody tr th {\n",
       "        vertical-align: top;\n",
       "    }\n",
       "\n",
       "    .dataframe thead th {\n",
       "        text-align: right;\n",
       "    }\n",
       "</style>\n",
       "<table border=\"1\" class=\"dataframe\">\n",
       "  <thead>\n",
       "    <tr style=\"text-align: right;\">\n",
       "      <th></th>\n",
       "      <th>Name</th>\n",
       "    </tr>\n",
       "  </thead>\n",
       "  <tbody>\n",
       "    <tr>\n",
       "      <th>0</th>\n",
       "      <td>boxerengine</td>\n",
       "    </tr>\n",
       "    <tr>\n",
       "      <th>1</th>\n",
       "      <td>llamaindex</td>\n",
       "    </tr>\n",
       "  </tbody>\n",
       "</table>\n",
       "</div>"
      ],
      "text/plain": [
       "          Name\n",
       "0  boxerengine\n",
       "1   llamaindex"
      ]
     },
     "execution_count": 39,
     "metadata": {},
     "output_type": "execute_result"
    }
   ],
   "source": [
    "# Nebula Graphに接続してSpaceの情報を取得する\n",
    "%load_ext ngql\n",
    "%ngql --address 127.0.0.1 --port 9669 --user root --password root"
   ]
  },
  {
   "cell_type": "code",
   "execution_count": 41,
   "metadata": {},
   "outputs": [
    {
     "data": {
      "text/html": [
       "<div>\n",
       "<style scoped>\n",
       "    .dataframe tbody tr th:only-of-type {\n",
       "        vertical-align: middle;\n",
       "    }\n",
       "\n",
       "    .dataframe tbody tr th {\n",
       "        vertical-align: top;\n",
       "    }\n",
       "\n",
       "    .dataframe thead th {\n",
       "        text-align: right;\n",
       "    }\n",
       "</style>\n",
       "<table border=\"1\" class=\"dataframe\">\n",
       "  <thead>\n",
       "    <tr style=\"text-align: right;\">\n",
       "      <th></th>\n",
       "      <th>e</th>\n",
       "    </tr>\n",
       "  </thead>\n",
       "  <tbody>\n",
       "    <tr>\n",
       "      <th>0</th>\n",
       "      <td>(\"12気筒\")-[:relationship@2847039626096127544{relationship: \"一次偶力を相殺できる\"}]-&gt;(\"180度v型\")</td>\n",
       "    </tr>\n",
       "    <tr>\n",
       "      <th>1</th>\n",
       "      <td>(\"12気筒\")-[:relationship@2847039626096127544{relationship: \"一次偶力を相殺できる\"}]-&gt;(\"180度v型でも\")</td>\n",
       "    </tr>\n",
       "    <tr>\n",
       "      <th>2</th>\n",
       "      <td>(\"12気筒エンジン\")-[:relationship@-4259500649969518903{relationship: \"圧倒的に\"}]-&gt;(\"180度v型\")</td>\n",
       "    </tr>\n",
       "    <tr>\n",
       "      <th>3</th>\n",
       "      <td>(\"12気筒エンジン\")-[:relationship@-4259500649969518903{relationship: \"圧倒的に\"}]-&gt;(\"180度v型が多い\")</td>\n",
       "    </tr>\n",
       "    <tr>\n",
       "      <th>4</th>\n",
       "      <td>(\"12気筒エンジン\")-[:relationship@-2183616879379552818{relationship: \"全長を\"}]-&gt;(\"短縮する\")</td>\n",
       "    </tr>\n",
       "    <tr>\n",
       "      <th>5</th>\n",
       "      <td>(\"180度v型\")-[:relationship@-7182355429830258513{relationship: \"60°の等間隔燃焼を\"}]-&gt;(\"得られる\")</td>\n",
       "    </tr>\n",
       "    <tr>\n",
       "      <th>6</th>\n",
       "      <td>(\"180度v型\")-[:relationship@-4235052806840745764{relationship: \"使用できる\"}]-&gt;(\"フラットプレーンクランクシャフト\")</td>\n",
       "    </tr>\n",
       "    <tr>\n",
       "      <th>7</th>\n",
       "      <td>(\"180度v型\")-[:relationship@-2648541590415519139{relationship: \"位相をずらすためのクランクウエブが不要で\"}]-&gt;(\"クランクシャフトの全長と剛性でボクサー構成よりも有利\")</td>\n",
       "    </tr>\n",
       "    <tr>\n",
       "      <th>8</th>\n",
       "      <td>(\"180度v型\")-[:relationship@-2252351635012999292{relationship: \"一次振動・二次振動・偶力振動とも\"}]-&gt;(\"釣り合いが取れる\")</td>\n",
       "    </tr>\n",
       "    <tr>\n",
       "      <th>9</th>\n",
       "      <td>(\"180度v型\")-[:relationship@-2195781045337484359{relationship: \"レイアウトは\"}]-&gt;(\"レース用エンジンに適している\")</td>\n",
       "    </tr>\n",
       "    <tr>\n",
       "      <th>10</th>\n",
       "      <td>(\"180度v型\")-[:relationship@-1172987369239232439{relationship: \"60°の\"}]-&gt;(\"等間隔燃焼\")</td>\n",
       "    </tr>\n",
       "    <tr>\n",
       "      <th>11</th>\n",
       "      <td>(\"180度v型\")-[:relationship@3152851974393390350{relationship: \"が\"}]-&gt;(\"左右の向かい合ったシリンダー\")</td>\n",
       "    </tr>\n",
       "    <tr>\n",
       "      <th>12</th>\n",
       "      <td>(\"180度v型\")-[:relationship@4450550648090804204{relationship: \"の\"}]-&gt;(\"長所\")</td>\n",
       "    </tr>\n",
       "    <tr>\n",
       "      <th>13</th>\n",
       "      <td>(\"180度v型\")-[:relationship@5113054780224805463{relationship: \"高回転に有利な点でも\"}]-&gt;(\"レース用エンジンにより適している\")</td>\n",
       "    </tr>\n",
       "    <tr>\n",
       "      <th>14</th>\n",
       "      <td>(\"180度v型\")-[:relationship@5144868996417057028{relationship: \"識別する\"}]-&gt;(\"外観上から水平対向エンジン\")</td>\n",
       "    </tr>\n",
       "    <tr>\n",
       "      <th>15</th>\n",
       "      <td>(\"180度v型\")-[:relationship@5144868996417057028{relationship: \"識別する\"}]-&gt;(\"外観上から水平対向エンジンであるか180度v型エンジンであるか\")</td>\n",
       "    </tr>\n",
       "    <tr>\n",
       "      <th>16</th>\n",
       "      <td>(\"180度v型\")-[:relationship@5657984629570775485{relationship: \"は\"}]-&gt;(\"左右シリンダーにおけるクランクピンが共通（同位相）という点である\")</td>\n",
       "    </tr>\n",
       "    <tr>\n",
       "      <th>17</th>\n",
       "      <td>(\"180度v型\")-[:relationship@6070999161114632142{relationship: \"では\"}]-&gt;(\"水平対向と異なり振動を対向シリンダーの間で相殺することができない\")</td>\n",
       "    </tr>\n",
       "    <tr>\n",
       "      <th>18</th>\n",
       "      <td>(\"180度v型\")-[:relationship@6547940451956620504{relationship: \"長所\"}]-&gt;(\"二次振動特性\")</td>\n",
       "    </tr>\n",
       "    <tr>\n",
       "      <th>19</th>\n",
       "      <td>(\"180度v型\")-[:relationship@7807691289899164940{relationship: \"を使用できる\"}]-&gt;(\"フラットプレーンクランクシャフト\")</td>\n",
       "    </tr>\n",
       "  </tbody>\n",
       "</table>\n",
       "</div>"
      ],
      "text/plain": [
       "                                                                                                                        e\n",
       "0                                    (\"12気筒\")-[:relationship@2847039626096127544{relationship: \"一次偶力を相殺できる\"}]->(\"180度v型\")\n",
       "1                                  (\"12気筒\")-[:relationship@2847039626096127544{relationship: \"一次偶力を相殺できる\"}]->(\"180度v型でも\")\n",
       "2                                     (\"12気筒エンジン\")-[:relationship@-4259500649969518903{relationship: \"圧倒的に\"}]->(\"180度v型\")\n",
       "3                                  (\"12気筒エンジン\")-[:relationship@-4259500649969518903{relationship: \"圧倒的に\"}]->(\"180度v型が多い\")\n",
       "4                                        (\"12気筒エンジン\")-[:relationship@-2183616879379552818{relationship: \"全長を\"}]->(\"短縮する\")\n",
       "5                                   (\"180度v型\")-[:relationship@-7182355429830258513{relationship: \"60°の等間隔燃焼を\"}]->(\"得られる\")\n",
       "6                            (\"180度v型\")-[:relationship@-4235052806840745764{relationship: \"使用できる\"}]->(\"フラットプレーンクランクシャフト\")\n",
       "7   (\"180度v型\")-[:relationship@-2648541590415519139{relationship: \"位相をずらすためのクランクウエブが不要で\"}]->(\"クランクシャフトの全長と剛性でボクサー構成よりも有利\")\n",
       "8                         (\"180度v型\")-[:relationship@-2252351635012999292{relationship: \"一次振動・二次振動・偶力振動とも\"}]->(\"釣り合いが取れる\")\n",
       "9                             (\"180度v型\")-[:relationship@-2195781045337484359{relationship: \"レイアウトは\"}]->(\"レース用エンジンに適している\")\n",
       "10                                       (\"180度v型\")-[:relationship@-1172987369239232439{relationship: \"60°の\"}]->(\"等間隔燃焼\")\n",
       "11                                  (\"180度v型\")-[:relationship@3152851974393390350{relationship: \"が\"}]->(\"左右の向かい合ったシリンダー\")\n",
       "12                                              (\"180度v型\")-[:relationship@4450550648090804204{relationship: \"の\"}]->(\"長所\")\n",
       "13                       (\"180度v型\")-[:relationship@5113054780224805463{relationship: \"高回転に有利な点でも\"}]->(\"レース用エンジンにより適している\")\n",
       "14                                (\"180度v型\")-[:relationship@5144868996417057028{relationship: \"識別する\"}]->(\"外観上から水平対向エンジン\")\n",
       "15              (\"180度v型\")-[:relationship@5144868996417057028{relationship: \"識別する\"}]->(\"外観上から水平対向エンジンであるか180度v型エンジンであるか\")\n",
       "16                (\"180度v型\")-[:relationship@5657984629570775485{relationship: \"は\"}]->(\"左右シリンダーにおけるクランクピンが共通（同位相）という点である\")\n",
       "17               (\"180度v型\")-[:relationship@6070999161114632142{relationship: \"では\"}]->(\"水平対向と異なり振動を対向シリンダーの間で相殺することができない\")\n",
       "18                                         (\"180度v型\")-[:relationship@6547940451956620504{relationship: \"長所\"}]->(\"二次振動特性\")\n",
       "19                           (\"180度v型\")-[:relationship@7807691289899164940{relationship: \"を使用できる\"}]->(\"フラットプレーンクランクシャフト\")"
      ]
     },
     "execution_count": 41,
     "metadata": {},
     "output_type": "execute_result"
    }
   ],
   "source": [
    "# llamaindexの検索を行う\n",
    "\n",
    "%ngql USE boxerengine;\n",
    "%ngql MATCH ()-[e]->() RETURN e LIMIT 20"
   ]
  },
  {
   "cell_type": "code",
   "execution_count": 24,
   "metadata": {},
   "outputs": [
    {
     "data": {
      "text/html": [
       "\n",
       "        <iframe\n",
       "            width=\"100%\"\n",
       "            height=\"500px\"\n",
       "            src=\"nebulagraph_cell_24.html\"\n",
       "            frameborder=\"0\"\n",
       "            allowfullscreen\n",
       "            \n",
       "        ></iframe>\n",
       "        "
      ],
      "text/plain": [
       "<IPython.lib.display.IFrame at 0x7fce79bc68d0>"
      ]
     },
     "metadata": {},
     "output_type": "display_data"
    },
    {
     "data": {
      "text/plain": [
       "<class 'pyvis.network.Network'> |N|=121 |E|=100"
      ]
     },
     "execution_count": 24,
     "metadata": {},
     "output_type": "execute_result"
    }
   ],
   "source": [
    "# draw the result\n",
    "# 結果が出力されない\n",
    "%ng_draw"
   ]
  },
  {
   "cell_type": "code",
   "execution_count": 64,
   "metadata": {},
   "outputs": [
    {
     "name": "stderr",
     "output_type": "stream",
     "text": [
      "/tmp/ipykernel_71274/833418821.py:4: DeprecationWarning: Call to deprecated class KnowledgeGraphRAGRetriever. (KnowledgeGraphRAGRetriever is deprecated, it is recommended to use PropertyGraphIndex and associated retrievers instead.) -- Deprecated since version 0.10.53.\n",
      "  graph_rag_retriever = KnowledgeGraphRAGRetriever(\n"
     ]
    }
   ],
   "source": [
    "from llama_index.core.query_engine import RetrieverQueryEngine\n",
    "from llama_index.core.retrievers import KnowledgeGraphRAGRetriever\n",
    "\n",
    "graph_rag_retriever = KnowledgeGraphRAGRetriever(\n",
    "    storage_context=storage_context,\n",
    "    verbose=True,\n",
    ")\n",
    "\n",
    "query_engine = RetrieverQueryEngine.from_args(\n",
    "    graph_rag_retriever,\n",
    ")"
   ]
  },
  {
   "cell_type": "code",
   "execution_count": 65,
   "metadata": {},
   "outputs": [
    {
     "data": {
      "text/markdown": [
       "ボクサーエンジンが採用される理由は、全高を低くすることができ、左右に水平に配置されるため、低重心を実現できる点が挙げられます。"
      ],
      "text/plain": [
       "<IPython.core.display.Markdown object>"
      ]
     },
     "metadata": {},
     "output_type": "display_data"
    }
   ],
   "source": [
    "from IPython.display import display, Markdown\n",
    "\n",
    "llama_debug_handler.flush_event_logs()\n",
    "response = query_engine.query(\n",
    "    \"ボクサーエンジンが採用される理由を教えて下さい\",\n",
    ")\n",
    "display(Markdown(f\"{response}\"))"
   ]
  },
  {
   "cell_type": "code",
   "execution_count": 66,
   "metadata": {},
   "outputs": [
    {
     "name": "stdout",
     "output_type": "stream",
     "text": [
      "\u001b[31m~~~~~~~~ Event ~~~~~~~~\u001b[0m\n",
      "\u001b[44m~~~~ Request ~~~~\u001b[0m\n",
      "\u001b[32mRole: MessageRole.USER\u001b[0m\n",
      "content: A question is provided below. Given the question, extract up to 5 keywords from the text. Focus on extracting the keywords that we can use to best lookup answers to the question. Avoid stopwords.\n",
      "---------------------\n",
      "ボクサーエンジンが採用される理由を教えて下さい\n",
      "---------------------\n",
      "Provide keywords in the following comma-separated format: 'KEYWORDS: <keywords>'\n",
      "\n",
      "\u001b[46m~~~~~ Response ~~~~\u001b[0m\n",
      "Role: MessageRole.ASSISTANT\n",
      "content: KEYWORDS: ボクサーエンジン, 採用, 理由\n",
      "\u001b[31m~~~~~~~~ Event ~~~~~~~~\u001b[0m\n",
      "\u001b[44m~~~~ Request ~~~~\u001b[0m\n",
      "\u001b[32mRole: MessageRole.USER\u001b[0m\n",
      "content: \n",
      "Generate synonyms or possible form of keywords up to 5 in total,\n",
      "considering possible cases of capitalization, pluralization, common expressions, etc.\n",
      "Provide all synonyms of keywords in comma-separated format: 'SYNONYMS: <keywords>'\n",
      "Note, result should be in one-line with only one 'SYNONYMS: ' prefix\n",
      "----\n",
      "KEYWORDS: ['理由', 'ボクサーエンジン', '採用']\n",
      "----\n",
      "\n",
      "\u001b[46m~~~~~ Response ~~~~\u001b[0m\n",
      "Role: MessageRole.ASSISTANT\n",
      "content: SYNONYMS: 理由, ボクサーエンジン, 採用, Reasons, boxer engine, adoption\n",
      "\u001b[31m~~~~~~~~ Event ~~~~~~~~\u001b[0m\n",
      "\u001b[44m~~~~ Request ~~~~\u001b[0m\n",
      "\u001b[32mRole: MessageRole.SYSTEM\u001b[0m\n",
      "content: You are an expert Q&A system that is trusted around the world.\n",
      "Always answer the query using the provided context information, and not prior knowledge.\n",
      "Some rules to follow:\n",
      "1. Never directly reference the given context in your answer.\n",
      "2. Avoid statements like 'Based on the context, ...' or 'The context information ...' or anything along those lines.\n",
      "\u001b[32mRole: MessageRole.USER\u001b[0m\n",
      "content: Context information is below.\n",
      "---------------------\n",
      "The following are knowledge sequence in max depth 2 in the form of directed graph like:\n",
      "`subject -[predicate]->, object, <-[predicate_next_hop]-, object_next_hop ...` extracted based on key entities as subject:\n",
      "理由{name: 理由} <-[relationship:{relationship: 主流である}]- 気動車{name: 気動車} -[relationship:{relationship: 主流となっている}]-> 横型のディーゼルエンジン{name: 横型のディーゼルエンジン}\n",
      "理由{name: 理由} <-[relationship:{relationship: 主流である}]- 気動車{name: 気動車} <-[relationship:{relationship: 搭載}]- Dml30hs/hz系{name: Dml30hs/hz系}\n",
      "理由{name: 理由} <-[relationship:{relationship: 主流である}]- 気動車{name: 気動車}\n",
      "ボクサーエンジン{name: ボクサーエンジン} <-[relationship:{relationship: 開発を続けている}]- ウラルモト{name: ウラルモト} -[relationship:{relationship: 生産している}]-> ボクサーエンジン{name: ボクサーエンジン}\n",
      "ボクサーエンジン{name: ボクサーエンジン} <-[relationship:{relationship: 生産している}]- 長江モーターワークス{name: 長江モーターワークス} -[relationship:{relationship: 開発を続けている}]-> ボクサーエンジン{name: ボクサーエンジン}\n",
      "ボクサーエンジン{name: ボクサーエンジン} <-[relationship:{relationship: 生産している}]- Bmw{name: Bmw} -[relationship:{relationship: 生産していた}]-> ボクサーエンジン{name: ボクサーエンジン}\n",
      "ボクサーエンジン{name: ボクサーエンジン} <-[relationship:{relationship: 生産された}]- カール・ベンツ{name: カール・ベンツ} <-[relationship:{relationship: 生産された}]- ボクサーエンジン{name: ボクサーエンジン}\n",
      "ボクサーエンジン{name: ボクサーエンジン} <-[relationship:{relationship: 生産していた}]- Bmw{name: Bmw} <-[relationship:{relationship: 活躍し}]- 1980年代のダカール・ラリー{name: 1980年代のダカール・ラリー}\n",
      "ボクサーエンジン{name: ボクサーエンジン} <-[relationship:{relationship: 生産していた}]- Bmw{name: Bmw} <-[relationship:{relationship: 活躍した}]- ダカール・ラリー{name: ダカール・ラリー}\n",
      "ボクサーエンジン{name: ボクサーエンジン} <-[relationship:{relationship: 開発している}]- ホンダ{name: ホンダ} <-[relationship:{relationship: 過去の搭載車種}]- アルファベット順{name: アルファベット順}\n",
      "ボクサーエンジン{name: ボクサーエンジン} <-[relationship:{relationship: 呼ばれる}]- 水平対向エンジン{name: 水平対向エンジン} -[relationship:{relationship: 開発されていた}]-> 高出力版{name: 高出力版}\n",
      "ボクサーエンジン{name: ボクサーエンジン} <-[relationship:{relationship: 呼ばれる}]- 水平対向エンジン{name: 水平対向エンジン} -[relationship:{relationship: シリンダーヘッドが}]-> エンジンの両端となり{name: エンジンの両端となり}\n",
      "ボクサーエンジン{name: ボクサーエンジン} <-[relationship:{relationship: 呼ばれる}]- 水平対向エンジン{name: 水平対向エンジン} -[relationship:{relationship: 水平シリンダー配置の場合には}]-> シリンダー内面の潤滑油膜が不均一になる{name: シリンダー内面の潤滑油膜が不均一になる}\n",
      "ボクサーエンジン{name: ボクサーエンジン} <-[relationship:{relationship: 呼ばれる}]- 水平対向エンジン{name: 水平対向エンジン} -[relationship:{relationship: にとって}]-> 有利な点である{name: 有利な点である}\n",
      "ボクサーエンジン{name: ボクサーエンジン} <-[relationship:{relationship: 呼ばれる}]- 水平対向エンジン{name: 水平対向エンジン} -[relationship:{relationship: 全高を低くする}]-> 同気筒数のv型エンジンに比べて{name: 同気筒数のv型エンジンに比べて}\n",
      "ボクサーエンジン{name: ボクサーエンジン} <-[relationship:{relationship: 呼ばれる}]- 水平対向エンジン{name: 水平対向エンジン} -[relationship:{relationship: は}]-> 水平シリンダー配置{name: 水平シリンダー配置}\n",
      "ボクサーエンジン{name: ボクサーエンジン} <-[relationship:{relationship: は}]- 内部構造{name: 内部構造} -[relationship:{relationship: は}]-> ボクサーエンジンと180度v型エンジンとでは別のものである{name: ボクサーエンジンと180度v型エンジンとでは別のものである}\n",
      "ボクサーエンジン{name: ボクサーエンジン} <-[relationship:{relationship: 呼ばれる}]- 水平対向エンジン{name: 水平対向エンジン} -[relationship:{relationship: は}]-> 全長が短い{name: 全長が短い}\n",
      "ボクサーエンジン{name: ボクサーエンジン} <-[relationship:{relationship: 呼ばれる}]- 水平対向エンジン{name: 水平対向エンジン} -[relationship:{relationship: は}]-> レシプロエンジンの形式の一つ{name: レシプロエンジンの形式の一つ}\n",
      "ボクサーエンジン{name: ボクサーエンジン} <-[relationship:{relationship: 呼ばれる}]- 水平対向エンジン{name: 水平対向エンジン} -[relationship:{relationship: 全幅が}]-> 大きい{name: 大きい}\n",
      "ボクサーエンジン{name: ボクサーエンジン} <-[relationship:{relationship: 呼ばれる}]- 水平対向エンジン{name: 水平対向エンジン} -[relationship:{relationship: 左右バンク}]-> シリンダーヘッド{name: シリンダーヘッド}\n",
      "ボクサーエンジン{name: ボクサーエンジン} <-[relationship:{relationship: 呼ばれる}]- 水平対向エンジン{name: 水平対向エンジン} -[relationship:{relationship: 低重心を実現できる}]-> エンジン単体として{name: エンジン単体として}\n",
      "ボクサーエンジン{name: ボクサーエンジン} <-[relationship:{relationship: 呼ばれる}]- 水平対向エンジン{name: 水平対向エンジン} -[relationship:{relationship: 通常は配置する}]-> 排気系{name: 排気系}\n",
      "ボクサーエンジン{name: ボクサーエンジン} <-[relationship:{relationship: 呼ばれる}]- 水平対向エンジン{name: 水平対向エンジン} -[relationship:{relationship: 通常は配置する}]-> 吸気系{name: 吸気系}\n",
      "ボクサーエンジン{name: ボクサーエンジン} <-[relationship:{relationship: 呼ばれる}]- 水平対向エンジン{name: 水平対向エンジン} -[relationship:{relationship: 配置}]-> 左右に水平に{name: 左右に水平に}\n",
      "ボクサーエンジン{name: ボクサーエンジン} <-[relationship:{relationship: 呼ばれる}]- 水平対向エンジン{name: 水平対向エンジン} -[relationship:{relationship: 技術}]-> テクノロジー{name: テクノロジー}\n",
      "ボクサーエンジン{name: ボクサーエンジン} <-[relationship:{relationship: 呼ばれる}]- 水平対向エンジン{name: 水平対向エンジン} -[relationship:{relationship: 配置される}]-> クランクシャフトの両側{name: クランクシャフトの両側}\n",
      "ボクサーエンジン{name: ボクサーエンジン} <-[relationship:{relationship: 呼ばれる}]- 水平対向エンジン{name: 水平対向エンジン} -[relationship:{relationship: 空冷方式の場合に}]-> 冷却風を受ける面積が広くなる{name: 冷却風を受ける面積が広くなる}\n",
      "ボクサーエンジン{name: ボクサーエンジン} <-[relationship:{relationship: 呼ばれる}]- 水平対向エンジン{name: 水平対向エンジン} -[relationship:{relationship: 区別する}]-> 対向ピストンエンジン{name: 対向ピストンエンジン}\n",
      "ボクサーエンジン{name: ボクサーエンジン} <-[relationship:{relationship: 呼ばれる}]- 水平対向エンジン{name: 水平対向エンジン} -[relationship:{relationship: 英訳として}]-> Flat-4{name: Flat-4}\n",
      "---------------------\n",
      "Given the context information and not prior knowledge, answer the query.\n",
      "Query: ボクサーエンジンが採用される理由を教えて下さい\n",
      "Answer: \n",
      "\u001b[46m~~~~~ Response ~~~~\u001b[0m\n",
      "Role: MessageRole.ASSISTANT\n",
      "content: ボクサーエンジンが採用される理由は、全高を低くすることができ、左右に水平に配置されるため、低重心を実現できる点が挙げられます。\n"
     ]
    }
   ],
   "source": [
    "def print_llm_logs(logs):\n",
    "    for event in logs:\n",
    "        print(\"\\033[31m~~~~~~~~ Event ~~~~~~~~\\033[0m\")\n",
    "        _, response = (event[0], event[1])\n",
    "        messages = response.payload[\"messages\"]\n",
    "        response = response.payload[\"response\"]\n",
    "        print(\"\\033[44m~~~~ Request ~~~~\\033[0m\")\n",
    "        for message in messages:\n",
    "            print(f\"\\033[32mRole: {message.role}\\033[0m\")\n",
    "            print(f\"content: {message.content}\")\n",
    "        print(\"\\033[46m~~~~~ Response ~~~~\\033[0m\")\n",
    "        print(f\"Role: {response.message.role}\")\n",
    "        print(f\"content: {response.message.content}\")\n",
    "\n",
    "\n",
    "print_llm_logs(llama_debug_handler.get_llm_inputs_outputs())"
   ]
  },
  {
   "cell_type": "code",
   "execution_count": 67,
   "metadata": {},
   "outputs": [
    {
     "data": {
      "text/markdown": [
       "Porsche、Subaru、トヨタ"
      ],
      "text/plain": [
       "<IPython.core.display.Markdown object>"
      ]
     },
     "metadata": {},
     "output_type": "display_data"
    }
   ],
   "source": [
    "from IPython.display import display, Markdown\n",
    "\n",
    "llama_debug_handler.flush_event_logs()\n",
    "response = query_engine.query(\n",
    "    \"水平対向エンジンが使用されている車種を全て教えて下さい。\",\n",
    ")\n",
    "display(Markdown(f\"{response}\"))"
   ]
  },
  {
   "cell_type": "code",
   "execution_count": 68,
   "metadata": {},
   "outputs": [
    {
     "name": "stdout",
     "output_type": "stream",
     "text": [
      "\u001b[31m~~~~~~~~ Event ~~~~~~~~\u001b[0m\n",
      "\u001b[44m~~~~ Request ~~~~\u001b[0m\n",
      "\u001b[32mRole: MessageRole.USER\u001b[0m\n",
      "content: A question is provided below. Given the question, extract up to 5 keywords from the text. Focus on extracting the keywords that we can use to best lookup answers to the question. Avoid stopwords.\n",
      "---------------------\n",
      "水平対向エンジンが使用されている車種を全て教えて下さい。\n",
      "---------------------\n",
      "Provide keywords in the following comma-separated format: 'KEYWORDS: <keywords>'\n",
      "\n",
      "\u001b[46m~~~~~ Response ~~~~\u001b[0m\n",
      "Role: MessageRole.ASSISTANT\n",
      "content: KEYWORDS: 水平対向エンジン, 車種, 使用\n",
      "\u001b[31m~~~~~~~~ Event ~~~~~~~~\u001b[0m\n",
      "\u001b[44m~~~~ Request ~~~~\u001b[0m\n",
      "\u001b[32mRole: MessageRole.USER\u001b[0m\n",
      "content: \n",
      "Generate synonyms or possible form of keywords up to 5 in total,\n",
      "considering possible cases of capitalization, pluralization, common expressions, etc.\n",
      "Provide all synonyms of keywords in comma-separated format: 'SYNONYMS: <keywords>'\n",
      "Note, result should be in one-line with only one 'SYNONYMS: ' prefix\n",
      "----\n",
      "KEYWORDS: ['水平対向エンジン', '使用', '車種']\n",
      "----\n",
      "\n",
      "\u001b[46m~~~~~ Response ~~~~\u001b[0m\n",
      "Role: MessageRole.ASSISTANT\n",
      "content: SYNONYMS: 水平対向エンジン, 使用, 車種, Horizontal opposed engine, used, vehicle model\n",
      "\u001b[31m~~~~~~~~ Event ~~~~~~~~\u001b[0m\n",
      "\u001b[44m~~~~ Request ~~~~\u001b[0m\n",
      "\u001b[32mRole: MessageRole.SYSTEM\u001b[0m\n",
      "content: You are an expert Q&A system that is trusted around the world.\n",
      "Always answer the query using the provided context information, and not prior knowledge.\n",
      "Some rules to follow:\n",
      "1. Never directly reference the given context in your answer.\n",
      "2. Avoid statements like 'Based on the context, ...' or 'The context information ...' or anything along those lines.\n",
      "\u001b[32mRole: MessageRole.USER\u001b[0m\n",
      "content: Context information is below.\n",
      "---------------------\n",
      "The following are knowledge sequence in max depth 2 in the form of directed graph like:\n",
      "`subject -[predicate]->, object, <-[predicate_next_hop]-, object_next_hop ...` extracted based on key entities as subject:\n",
      "車種{name: 車種} <-[relationship:{relationship: ボクスター}]- Porsche{name: Porsche} -[relationship:{relationship: 911}]-> 車種{name: 車種}\n",
      "車種{name: 車種} <-[relationship:{relationship: ボクスター}]- Porsche{name: Porsche} -[relationship:{relationship: ケイマン}]-> 車種{name: 車種}\n",
      "車種{name: 車種} <-[relationship:{relationship: ケイマン}]- Porsche{name: Porsche} -[relationship:{relationship: 911}]-> 車種{name: 車種}\n",
      "車種{name: 車種} <-[relationship:{relationship: 86}]- トヨタ{name: トヨタ} -[relationship:{relationship: 搭載されている}]-> 4気筒ボクサーエンジン{name: 4気筒ボクサーエンジン}\n",
      "車種{name: 車種} <-[relationship:{relationship: ボクスター}]- Porsche{name: Porsche}\n",
      "車種{name: 車種} <-[relationship:{relationship: 911}]- Porsche{name: Porsche}\n",
      "車種{name: 車種} <-[relationship:{relationship: 911}]- Porsche{name: Porsche} -[relationship:{relationship: ケイマン}]-> 車種{name: 車種}\n",
      "水平対向エンジン{name: 水平対向エンジン} <-[relationship:{relationship: 搭載している}]- Subaru{name: Subaru} -[relationship:{relationship: 水平対向エンジンで駆動する}]-> 前置きエンジン・4輪駆動配置{name: 前置きエンジン・4輪駆動配置}\n",
      "水平対向エンジン{name: 水平対向エンジン} <-[relationship:{relationship: 搭載している}]- Subaru{name: Subaru} -[relationship:{relationship: Describes}]-> 180 degree v12 engine as horizontally opposed 12 cylinders{name: 180 degree v12 engine as horizontally opposed 12 cylinders}\n",
      "水平対向エンジン{name: 水平対向エンジン} <-[relationship:{relationship: する}]- ボクサーエンジン{name: ボクサーエンジン} -[relationship:{relationship: 全長が}]-> 短い{name: 短い}\n",
      "水平対向エンジン{name: 水平対向エンジン} <-[relationship:{relationship: する}]- ボクサーエンジン{name: ボクサーエンジン} -[relationship:{relationship: 水平対向2気筒設計であった}]-> Kontraエンジン{name: Kontraエンジン}\n",
      "水平対向エンジン{name: 水平対向エンジン} <-[relationship:{relationship: 搭載している}]- Subaru{name: Subaru} -[relationship:{relationship: Oem供給されていた}]-> 製品{name: 製品}\n",
      "水平対向エンジン{name: 水平対向エンジン} <-[relationship:{relationship: する}]- ボクサーエンジン{name: ボクサーエンジン} -[relationship:{relationship: 独立していて}]-> クランクピン{name: クランクピン}\n",
      "水平対向エンジン{name: 水平対向エンジン} <-[relationship:{relationship: する}]- ボクサーエンジン{name: ボクサーエンジン} -[relationship:{relationship: 独立していて}]-> 180° 位相{name: 180° 位相}\n",
      "水平対向エンジン{name: 水平対向エンジン} <-[relationship:{relationship: 搭載している}]- トヨタ{name: トヨタ} -[relationship:{relationship: 呼んでいる}]-> トヨタ4u-gse{name: トヨタ4u-gse}\n",
      "水平対向エンジン{name: 水平対向エンジン} <-[relationship:{relationship: する}]- ボクサーエンジン{name: ボクサーエンジン} -[relationship:{relationship: 相殺する}]-> 2次以上の振動{name: 2次以上の振動}\n",
      "水平対向エンジン{name: 水平対向エンジン} <-[relationship:{relationship: する}]- ボクサーエンジン{name: ボクサーエンジン} -[relationship:{relationship: 一対となる}]-> 2つのシリンダー{name: 2つのシリンダー}\n",
      "水平対向エンジン{name: 水平対向エンジン} <-[relationship:{relationship: する}]- ボクサーエンジン{name: ボクサーエンジン} -[relationship:{relationship: 発生する}]-> 揺動偶力（振動）が{name: 揺動偶力（振動）が}\n",
      "水平対向エンジン{name: 水平対向エンジン} <-[relationship:{relationship: する}]- ボクサーエンジン{name: ボクサーエンジン} -[relationship:{relationship: 採用している}]-> ボクサー構成{name: ボクサー構成}\n",
      "水平対向エンジン{name: 水平対向エンジン} <-[relationship:{relationship: する}]- ボクサーエンジン{name: ボクサーエンジン} -[relationship:{relationship: 比較して}]-> 直列型などの他形式エンジンと{name: 直列型などの他形式エンジンと}\n",
      "水平対向エンジン{name: 水平対向エンジン} <-[relationship:{relationship: する}]- ボクサーエンジン{name: ボクサーエンジン} -[relationship:{relationship: 比較して}]-> 直列エンジン{name: 直列エンジン}\n",
      "水平対向エンジン{name: 水平対向エンジン} <-[relationship:{relationship: する}]- ボクサーエンジン{name: ボクサーエンジン} -[relationship:{relationship: 低振動となる}]-> 格段に{name: 格段に}\n",
      "水平対向エンジン{name: 水平対向エンジン} <-[relationship:{relationship: する}]- ボクサーエンジン{name: ボクサーエンジン} -[relationship:{relationship: 砕ける}]-> 表現{name: 表現}\n",
      "水平対向エンジン{name: 水平対向エンジン} <-[relationship:{relationship: する}]- ボクサーエンジン{name: ボクサーエンジン} <-[relationship:{relationship: 開発している}]- ホンダ{name: ホンダ}\n",
      "水平対向エンジン{name: 水平対向エンジン} <-[relationship:{relationship: する}]- ボクサーエンジン{name: ボクサーエンジン} <-[relationship:{relationship: 開発を続けている}]- 本田技研工業{name: 本田技研工業}\n",
      "水平対向エンジン{name: 水平対向エンジン} <-[relationship:{relationship: する}]- ボクサーエンジン{name: ボクサーエンジン} <-[relationship:{relationship: 生産している}]- 長江モーターワークス{name: 長江モーターワークス}\n",
      "水平対向エンジン{name: 水平対向エンジン} <-[relationship:{relationship: する}]- ボクサーエンジン{name: ボクサーエンジン} <-[relationship:{relationship: 生産している}]- ウラルモト{name: ウラルモト}\n",
      "水平対向エンジン{name: 水平対向エンジン} <-[relationship:{relationship: する}]- ボクサーエンジン{name: ボクサーエンジン} <-[relationship:{relationship: 生産している}]- Bmw{name: Bmw}\n",
      "水平対向エンジン{name: 水平対向エンジン} <-[relationship:{relationship: する}]- ボクサーエンジン{name: ボクサーエンジン} <-[relationship:{relationship: 生産された}]- カール・ベンツ{name: カール・ベンツ}\n",
      "水平対向エンジン{name: 水平対向エンジン} <-[relationship:{relationship: 1972年から}]- Subaru{name: Subaru} -[relationship:{relationship: 水平対向エンジンで駆動する}]-> 前置きエンジン・4輪駆動配置{name: 前置きエンジン・4輪駆動配置}\n",
      "---------------------\n",
      "Given the context information and not prior knowledge, answer the query.\n",
      "Query: 水平対向エンジンが使用されている車種を全て教えて下さい。\n",
      "Answer: \n",
      "\u001b[46m~~~~~ Response ~~~~\u001b[0m\n",
      "Role: MessageRole.ASSISTANT\n",
      "content: Porsche、Subaru、トヨタ\n"
     ]
    }
   ],
   "source": [
    "print_llm_logs(llama_debug_handler.get_llm_inputs_outputs())"
   ]
  },
  {
   "cell_type": "code",
   "execution_count": 69,
   "metadata": {},
   "outputs": [
    {
     "data": {
      "text/markdown": [
       "Subaru"
      ],
      "text/plain": [
       "<IPython.core.display.Markdown object>"
      ]
     },
     "metadata": {},
     "output_type": "display_data"
    }
   ],
   "source": [
    "from IPython.display import display, Markdown\n",
    "\n",
    "llama_debug_handler.flush_event_logs()\n",
    "response = query_engine.query(\n",
    "    \"水平対向エンジンが使用されている車の名前を全て教えて下さい。\",\n",
    ")\n",
    "display(Markdown(f\"{response}\"))"
   ]
  },
  {
   "cell_type": "code",
   "execution_count": 70,
   "metadata": {},
   "outputs": [
    {
     "name": "stdout",
     "output_type": "stream",
     "text": [
      "\u001b[31m~~~~~~~~ Event ~~~~~~~~\u001b[0m\n",
      "\u001b[44m~~~~ Request ~~~~\u001b[0m\n",
      "\u001b[32mRole: MessageRole.USER\u001b[0m\n",
      "content: A question is provided below. Given the question, extract up to 5 keywords from the text. Focus on extracting the keywords that we can use to best lookup answers to the question. Avoid stopwords.\n",
      "---------------------\n",
      "水平対向エンジンが使用されている車の名前を全て教えて下さい。\n",
      "---------------------\n",
      "Provide keywords in the following comma-separated format: 'KEYWORDS: <keywords>'\n",
      "\n",
      "\u001b[46m~~~~~ Response ~~~~\u001b[0m\n",
      "Role: MessageRole.ASSISTANT\n",
      "content: KEYWORDS: 水平対向エンジン, 車, 名前, 使用\n",
      "\u001b[31m~~~~~~~~ Event ~~~~~~~~\u001b[0m\n",
      "\u001b[44m~~~~ Request ~~~~\u001b[0m\n",
      "\u001b[32mRole: MessageRole.USER\u001b[0m\n",
      "content: \n",
      "Generate synonyms or possible form of keywords up to 5 in total,\n",
      "considering possible cases of capitalization, pluralization, common expressions, etc.\n",
      "Provide all synonyms of keywords in comma-separated format: 'SYNONYMS: <keywords>'\n",
      "Note, result should be in one-line with only one 'SYNONYMS: ' prefix\n",
      "----\n",
      "KEYWORDS: ['水平対向エンジン', '使用', '名前', '車']\n",
      "----\n",
      "\n",
      "\u001b[46m~~~~~ Response ~~~~\u001b[0m\n",
      "Role: MessageRole.ASSISTANT\n",
      "content: SYNONYMS: 水平対向エンジン, 使用, 名前, 車, Horizontal opposed engine, used, name, car\n",
      "\u001b[31m~~~~~~~~ Event ~~~~~~~~\u001b[0m\n",
      "\u001b[44m~~~~ Request ~~~~\u001b[0m\n",
      "\u001b[32mRole: MessageRole.SYSTEM\u001b[0m\n",
      "content: You are an expert Q&A system that is trusted around the world.\n",
      "Always answer the query using the provided context information, and not prior knowledge.\n",
      "Some rules to follow:\n",
      "1. Never directly reference the given context in your answer.\n",
      "2. Avoid statements like 'Based on the context, ...' or 'The context information ...' or anything along those lines.\n",
      "\u001b[32mRole: MessageRole.USER\u001b[0m\n",
      "content: Context information is below.\n",
      "---------------------\n",
      "The following are knowledge sequence in max depth 2 in the form of directed graph like:\n",
      "`subject -[predicate]->, object, <-[predicate_next_hop]-, object_next_hop ...` extracted based on key entities as subject:\n",
      "車{name: 車} <-[relationship:{relationship: 生産している}]- Subaru{name: Subaru} -[relationship:{relationship: 水平対向エンジンで駆動する}]-> 前置きエンジン・4輪駆動配置{name: 前置きエンジン・4輪駆動配置}\n",
      "車{name: 車} <-[relationship:{relationship: 生産している}]- Subaru{name: Subaru} -[relationship:{relationship: 例として}]-> スバル・レガシィ{name: スバル・レガシィ}\n",
      "車{name: 車} <-[relationship:{relationship: 生産している}]- Subaru{name: Subaru} -[relationship:{relationship: 例として}]-> スバル・インプレッサ{name: スバル・インプレッサ}\n",
      "車{name: 車} <-[relationship:{relationship: 生産している}]- Subaru{name: Subaru} -[relationship:{relationship: Describes}]-> 180 degree v12 engine as horizontally opposed 12 cylinders{name: 180 degree v12 engine as horizontally opposed 12 cylinders}\n",
      "車{name: 車} <-[relationship:{relationship: 生産している}]- Subaru{name: Subaru} <-[relationship:{relationship: 過去の搭載車種}]- アルファベット順{name: アルファベット順}\n",
      "車{name: 車} <-[relationship:{relationship: 生産している}]- Subaru{name: Subaru}\n",
      "車{name: 車} <-[relationship:{relationship: 生産している}]- Subaru{name: Subaru} -[relationship:{relationship: 搭載している}]-> 水平対向エンジン{name: 水平対向エンジン}\n",
      "水平対向エンジン{name: 水平対向エンジン} <-[relationship:{relationship: 搭載している}]- Subaru{name: Subaru} -[relationship:{relationship: 水平対向エンジンで駆動する}]-> 前置きエンジン・4輪駆動配置{name: 前置きエンジン・4輪駆動配置}\n",
      "水平対向エンジン{name: 水平対向エンジン} <-[relationship:{relationship: 搭載している}]- Subaru{name: Subaru} -[relationship:{relationship: Describes}]-> 180 degree v12 engine as horizontally opposed 12 cylinders{name: 180 degree v12 engine as horizontally opposed 12 cylinders}\n",
      "水平対向エンジン{name: 水平対向エンジン} <-[relationship:{relationship: する}]- ボクサーエンジン{name: ボクサーエンジン} -[relationship:{relationship: 全長が}]-> 短い{name: 短い}\n",
      "水平対向エンジン{name: 水平対向エンジン} <-[relationship:{relationship: する}]- ボクサーエンジン{name: ボクサーエンジン} -[relationship:{relationship: 水平対向2気筒設計であった}]-> Kontraエンジン{name: Kontraエンジン}\n",
      "水平対向エンジン{name: 水平対向エンジン} <-[relationship:{relationship: 搭載している}]- Subaru{name: Subaru} -[relationship:{relationship: Oem供給されていた}]-> 製品{name: 製品}\n",
      "水平対向エンジン{name: 水平対向エンジン} <-[relationship:{relationship: する}]- ボクサーエンジン{name: ボクサーエンジン} -[relationship:{relationship: 独立していて}]-> クランクピン{name: クランクピン}\n",
      "水平対向エンジン{name: 水平対向エンジン} <-[relationship:{relationship: する}]- ボクサーエンジン{name: ボクサーエンジン} -[relationship:{relationship: 独立していて}]-> 180° 位相{name: 180° 位相}\n",
      "水平対向エンジン{name: 水平対向エンジン} <-[relationship:{relationship: 搭載している}]- トヨタ{name: トヨタ} -[relationship:{relationship: 呼んでいる}]-> トヨタ4u-gse{name: トヨタ4u-gse}\n",
      "水平対向エンジン{name: 水平対向エンジン} <-[relationship:{relationship: する}]- ボクサーエンジン{name: ボクサーエンジン} -[relationship:{relationship: 相殺する}]-> 2次以上の振動{name: 2次以上の振動}\n",
      "水平対向エンジン{name: 水平対向エンジン} <-[relationship:{relationship: する}]- ボクサーエンジン{name: ボクサーエンジン} -[relationship:{relationship: 一対となる}]-> 2つのシリンダー{name: 2つのシリンダー}\n",
      "水平対向エンジン{name: 水平対向エンジン} <-[relationship:{relationship: する}]- ボクサーエンジン{name: ボクサーエンジン} -[relationship:{relationship: 発生する}]-> 揺動偶力（振動）が{name: 揺動偶力（振動）が}\n",
      "水平対向エンジン{name: 水平対向エンジン} <-[relationship:{relationship: する}]- ボクサーエンジン{name: ボクサーエンジン} -[relationship:{relationship: 採用している}]-> ボクサー構成{name: ボクサー構成}\n",
      "水平対向エンジン{name: 水平対向エンジン} <-[relationship:{relationship: する}]- ボクサーエンジン{name: ボクサーエンジン} -[relationship:{relationship: 比較して}]-> 直列型などの他形式エンジンと{name: 直列型などの他形式エンジンと}\n",
      "水平対向エンジン{name: 水平対向エンジン} <-[relationship:{relationship: する}]- ボクサーエンジン{name: ボクサーエンジン} -[relationship:{relationship: 比較して}]-> 直列エンジン{name: 直列エンジン}\n",
      "水平対向エンジン{name: 水平対向エンジン} <-[relationship:{relationship: する}]- ボクサーエンジン{name: ボクサーエンジン} -[relationship:{relationship: 低振動となる}]-> 格段に{name: 格段に}\n",
      "水平対向エンジン{name: 水平対向エンジン} <-[relationship:{relationship: する}]- ボクサーエンジン{name: ボクサーエンジン} -[relationship:{relationship: 砕ける}]-> 表現{name: 表現}\n",
      "水平対向エンジン{name: 水平対向エンジン} <-[relationship:{relationship: する}]- ボクサーエンジン{name: ボクサーエンジン} <-[relationship:{relationship: 開発している}]- ホンダ{name: ホンダ}\n",
      "水平対向エンジン{name: 水平対向エンジン} <-[relationship:{relationship: する}]- ボクサーエンジン{name: ボクサーエンジン} <-[relationship:{relationship: 開発を続けている}]- 本田技研工業{name: 本田技研工業}\n",
      "水平対向エンジン{name: 水平対向エンジン} <-[relationship:{relationship: する}]- ボクサーエンジン{name: ボクサーエンジン} <-[relationship:{relationship: 生産している}]- 長江モーターワークス{name: 長江モーターワークス}\n",
      "水平対向エンジン{name: 水平対向エンジン} <-[relationship:{relationship: する}]- ボクサーエンジン{name: ボクサーエンジン} <-[relationship:{relationship: 生産している}]- ウラルモト{name: ウラルモト}\n",
      "水平対向エンジン{name: 水平対向エンジン} <-[relationship:{relationship: する}]- ボクサーエンジン{name: ボクサーエンジン} <-[relationship:{relationship: 生産している}]- Bmw{name: Bmw}\n",
      "水平対向エンジン{name: 水平対向エンジン} <-[relationship:{relationship: する}]- ボクサーエンジン{name: ボクサーエンジン} <-[relationship:{relationship: 生産された}]- カール・ベンツ{name: カール・ベンツ}\n",
      "水平対向エンジン{name: 水平対向エンジン} <-[relationship:{relationship: 1972年から}]- Subaru{name: Subaru} -[relationship:{relationship: 水平対向エンジンで駆動する}]-> 前置きエンジン・4輪駆動配置{name: 前置きエンジン・4輪駆動配置}\n",
      "---------------------\n",
      "Given the context information and not prior knowledge, answer the query.\n",
      "Query: 水平対向エンジンが使用されている車の名前を全て教えて下さい。\n",
      "Answer: \n",
      "\u001b[46m~~~~~ Response ~~~~\u001b[0m\n",
      "Role: MessageRole.ASSISTANT\n",
      "content: Subaru\n"
     ]
    }
   ],
   "source": [
    "print_llm_logs(llama_debug_handler.get_llm_inputs_outputs())"
   ]
  },
  {
   "cell_type": "code",
   "execution_count": 71,
   "metadata": {},
   "outputs": [
    {
     "data": {
      "text/markdown": [
       "Subaruは1972年から水平対向エンジンを採用しており、そのエンジンはスバル・レガシィやスバル・レオーネ、スバル・インプレッサなどの車種に搭載されています。水平対向エンジンは排気系の下側に配置され、太い配管や排ガス対策に影響を与えています。他にも水平対向エンジンはボクサーエンジンとしても知られ、様々な自動車メーカーによって開発や生産が行われています。"
      ],
      "text/plain": [
       "<IPython.core.display.Markdown object>"
      ]
     },
     "metadata": {},
     "output_type": "display_data"
    }
   ],
   "source": [
    "from IPython.display import display, Markdown\n",
    "\n",
    "llama_debug_handler.flush_event_logs()\n",
    "response = query_engine.query(\n",
    "    \"水平対向エンジンの歴史を教えて下さい。\",\n",
    ")\n",
    "display(Markdown(f\"{response}\"))"
   ]
  },
  {
   "cell_type": "code",
   "execution_count": 72,
   "metadata": {},
   "outputs": [
    {
     "name": "stdout",
     "output_type": "stream",
     "text": [
      "\u001b[31m~~~~~~~~ Event ~~~~~~~~\u001b[0m\n",
      "\u001b[44m~~~~ Request ~~~~\u001b[0m\n",
      "\u001b[32mRole: MessageRole.USER\u001b[0m\n",
      "content: A question is provided below. Given the question, extract up to 5 keywords from the text. Focus on extracting the keywords that we can use to best lookup answers to the question. Avoid stopwords.\n",
      "---------------------\n",
      "水平対向エンジンの歴史を教えて下さい。\n",
      "---------------------\n",
      "Provide keywords in the following comma-separated format: 'KEYWORDS: <keywords>'\n",
      "\n",
      "\u001b[46m~~~~~ Response ~~~~\u001b[0m\n",
      "Role: MessageRole.ASSISTANT\n",
      "content: KEYWORDS: 水平対向エンジン, 歴史, 教える\n",
      "\u001b[31m~~~~~~~~ Event ~~~~~~~~\u001b[0m\n",
      "\u001b[44m~~~~ Request ~~~~\u001b[0m\n",
      "\u001b[32mRole: MessageRole.USER\u001b[0m\n",
      "content: \n",
      "Generate synonyms or possible form of keywords up to 5 in total,\n",
      "considering possible cases of capitalization, pluralization, common expressions, etc.\n",
      "Provide all synonyms of keywords in comma-separated format: 'SYNONYMS: <keywords>'\n",
      "Note, result should be in one-line with only one 'SYNONYMS: ' prefix\n",
      "----\n",
      "KEYWORDS: ['水平対向エンジン', '歴史', '教える']\n",
      "----\n",
      "\n",
      "\u001b[46m~~~~~ Response ~~~~\u001b[0m\n",
      "Role: MessageRole.ASSISTANT\n",
      "content: SYNONYMS: 水平対向エンジン, 歴史, 教える, Horizontal opposed engine, History, Teach\n",
      "\u001b[31m~~~~~~~~ Event ~~~~~~~~\u001b[0m\n",
      "\u001b[44m~~~~ Request ~~~~\u001b[0m\n",
      "\u001b[32mRole: MessageRole.SYSTEM\u001b[0m\n",
      "content: You are an expert Q&A system that is trusted around the world.\n",
      "Always answer the query using the provided context information, and not prior knowledge.\n",
      "Some rules to follow:\n",
      "1. Never directly reference the given context in your answer.\n",
      "2. Avoid statements like 'Based on the context, ...' or 'The context information ...' or anything along those lines.\n",
      "\u001b[32mRole: MessageRole.USER\u001b[0m\n",
      "content: Context information is below.\n",
      "---------------------\n",
      "The following are knowledge sequence in max depth 2 in the form of directed graph like:\n",
      "`subject -[predicate]->, object, <-[predicate_next_hop]-, object_next_hop ...` extracted based on key entities as subject:\n",
      "水平対向エンジン{name: 水平対向エンジン} <-[relationship:{relationship: 搭載している}]- Subaru{name: Subaru} -[relationship:{relationship: 水平対向エンジンで駆動する}]-> 前置きエンジン・4輪駆動配置{name: 前置きエンジン・4輪駆動配置}\n",
      "水平対向エンジン{name: 水平対向エンジン} <-[relationship:{relationship: 搭載している}]- Subaru{name: Subaru} -[relationship:{relationship: Describes}]-> 180 degree v12 engine as horizontally opposed 12 cylinders{name: 180 degree v12 engine as horizontally opposed 12 cylinders}\n",
      "水平対向エンジン{name: 水平対向エンジン} <-[relationship:{relationship: する}]- ボクサーエンジン{name: ボクサーエンジン} -[relationship:{relationship: 全長が}]-> 短い{name: 短い}\n",
      "水平対向エンジン{name: 水平対向エンジン} <-[relationship:{relationship: する}]- ボクサーエンジン{name: ボクサーエンジン} -[relationship:{relationship: 水平対向2気筒設計であった}]-> Kontraエンジン{name: Kontraエンジン}\n",
      "水平対向エンジン{name: 水平対向エンジン} <-[relationship:{relationship: 搭載している}]- Subaru{name: Subaru} -[relationship:{relationship: Oem供給されていた}]-> 製品{name: 製品}\n",
      "水平対向エンジン{name: 水平対向エンジン} <-[relationship:{relationship: する}]- ボクサーエンジン{name: ボクサーエンジン} -[relationship:{relationship: 独立していて}]-> クランクピン{name: クランクピン}\n",
      "水平対向エンジン{name: 水平対向エンジン} <-[relationship:{relationship: する}]- ボクサーエンジン{name: ボクサーエンジン} -[relationship:{relationship: 独立していて}]-> 180° 位相{name: 180° 位相}\n",
      "水平対向エンジン{name: 水平対向エンジン} <-[relationship:{relationship: 搭載している}]- トヨタ{name: トヨタ} -[relationship:{relationship: 呼んでいる}]-> トヨタ4u-gse{name: トヨタ4u-gse}\n",
      "水平対向エンジン{name: 水平対向エンジン} <-[relationship:{relationship: する}]- ボクサーエンジン{name: ボクサーエンジン} -[relationship:{relationship: 相殺する}]-> 2次以上の振動{name: 2次以上の振動}\n",
      "水平対向エンジン{name: 水平対向エンジン} <-[relationship:{relationship: する}]- ボクサーエンジン{name: ボクサーエンジン} -[relationship:{relationship: 一対となる}]-> 2つのシリンダー{name: 2つのシリンダー}\n",
      "水平対向エンジン{name: 水平対向エンジン} <-[relationship:{relationship: する}]- ボクサーエンジン{name: ボクサーエンジン} -[relationship:{relationship: 発生する}]-> 揺動偶力（振動）が{name: 揺動偶力（振動）が}\n",
      "水平対向エンジン{name: 水平対向エンジン} <-[relationship:{relationship: する}]- ボクサーエンジン{name: ボクサーエンジン} -[relationship:{relationship: 採用している}]-> ボクサー構成{name: ボクサー構成}\n",
      "水平対向エンジン{name: 水平対向エンジン} <-[relationship:{relationship: する}]- ボクサーエンジン{name: ボクサーエンジン} -[relationship:{relationship: 比較して}]-> 直列型などの他形式エンジンと{name: 直列型などの他形式エンジンと}\n",
      "水平対向エンジン{name: 水平対向エンジン} <-[relationship:{relationship: する}]- ボクサーエンジン{name: ボクサーエンジン} -[relationship:{relationship: 比較して}]-> 直列エンジン{name: 直列エンジン}\n",
      "水平対向エンジン{name: 水平対向エンジン} <-[relationship:{relationship: する}]- ボクサーエンジン{name: ボクサーエンジン} -[relationship:{relationship: 低振動となる}]-> 格段に{name: 格段に}\n",
      "水平対向エンジン{name: 水平対向エンジン} <-[relationship:{relationship: する}]- ボクサーエンジン{name: ボクサーエンジン} -[relationship:{relationship: 砕ける}]-> 表現{name: 表現}\n",
      "水平対向エンジン{name: 水平対向エンジン} <-[relationship:{relationship: する}]- ボクサーエンジン{name: ボクサーエンジン} <-[relationship:{relationship: 開発している}]- ホンダ{name: ホンダ}\n",
      "水平対向エンジン{name: 水平対向エンジン} <-[relationship:{relationship: する}]- ボクサーエンジン{name: ボクサーエンジン} <-[relationship:{relationship: 開発を続けている}]- 本田技研工業{name: 本田技研工業}\n",
      "水平対向エンジン{name: 水平対向エンジン} <-[relationship:{relationship: する}]- ボクサーエンジン{name: ボクサーエンジン} <-[relationship:{relationship: 生産している}]- 長江モーターワークス{name: 長江モーターワークス}\n",
      "水平対向エンジン{name: 水平対向エンジン} <-[relationship:{relationship: する}]- ボクサーエンジン{name: ボクサーエンジン} <-[relationship:{relationship: 生産している}]- ウラルモト{name: ウラルモト}\n",
      "水平対向エンジン{name: 水平対向エンジン} <-[relationship:{relationship: する}]- ボクサーエンジン{name: ボクサーエンジン} <-[relationship:{relationship: 生産している}]- Bmw{name: Bmw}\n",
      "水平対向エンジン{name: 水平対向エンジン} <-[relationship:{relationship: する}]- ボクサーエンジン{name: ボクサーエンジン} <-[relationship:{relationship: 生産された}]- カール・ベンツ{name: カール・ベンツ}\n",
      "水平対向エンジン{name: 水平対向エンジン} <-[relationship:{relationship: 1972年から}]- Subaru{name: Subaru} -[relationship:{relationship: 水平対向エンジンで駆動する}]-> 前置きエンジン・4輪駆動配置{name: 前置きエンジン・4輪駆動配置}\n",
      "水平対向エンジン{name: 水平対向エンジン} <-[relationship:{relationship: 1972年から}]- Subaru{name: Subaru} -[relationship:{relationship: 例として}]-> スバル・レガシィ{name: スバル・レガシィ}\n",
      "水平対向エンジン{name: 水平対向エンジン} <-[relationship:{relationship: 1972年から}]- Subaru{name: Subaru} -[relationship:{relationship: 例として}]-> スバル・レオーネ{name: スバル・レオーネ}\n",
      "水平対向エンジン{name: 水平対向エンジン} <-[relationship:{relationship: する}]- ボクサーエンジン{name: ボクサーエンジン} <-[relationship:{relationship: 呼ばれる}]- 水平対向エンジン{name: 水平対向エンジン}\n",
      "水平対向エンジン{name: 水平対向エンジン} <-[relationship:{relationship: 1972年から}]- Subaru{name: Subaru} -[relationship:{relationship: 例として}]-> スバル・インプレッサ{name: スバル・インプレッサ}\n",
      "水平対向エンジン{name: 水平対向エンジン} <-[relationship:{relationship: 下側に配置}]- 排気系{name: 排気系} -[relationship:{relationship: 取り回しによって}]-> エンジン搭載位置{name: エンジン搭載位置}\n",
      "水平対向エンジン{name: 水平対向エンジン} <-[relationship:{relationship: 下側に配置}]- 排気系{name: 排気系} -[relationship:{relationship: 影響が大きい}]-> 太い配管{name: 太い配管}\n",
      "水平対向エンジン{name: 水平対向エンジン} <-[relationship:{relationship: 下側に配置}]- 排気系{name: 排気系} <-[relationship:{relationship: 行う}]- 排ガス対策{name: 排ガス対策}\n",
      "---------------------\n",
      "Given the context information and not prior knowledge, answer the query.\n",
      "Query: 水平対向エンジンの歴史を教えて下さい。\n",
      "Answer: \n",
      "\u001b[46m~~~~~ Response ~~~~\u001b[0m\n",
      "Role: MessageRole.ASSISTANT\n",
      "content: Subaruは1972年から水平対向エンジンを採用しており、そのエンジンはスバル・レガシィやスバル・レオーネ、スバル・インプレッサなどの車種に搭載されています。水平対向エンジンは排気系の下側に配置され、太い配管や排ガス対策に影響を与えています。他にも水平対向エンジンはボクサーエンジンとしても知られ、様々な自動車メーカーによって開発や生産が行われています。\n"
     ]
    }
   ],
   "source": [
    "print_llm_logs(llama_debug_handler.get_llm_inputs_outputs())"
   ]
  },
  {
   "cell_type": "code",
   "execution_count": 73,
   "metadata": {},
   "outputs": [
    {
     "data": {
      "text/markdown": [
       "Subaruは水平対向エンジンを搭載している車両の歴史を持っており、1972年から水平対向エンジンで駆動する前置きエンジン・4輪駆動配置やスバル・レガシィ、スバル・レオーネ、スバル・インプレッサなどの車両に水平対向エンジンが搭載されています。"
      ],
      "text/plain": [
       "<IPython.core.display.Markdown object>"
      ]
     },
     "metadata": {},
     "output_type": "display_data"
    }
   ],
   "source": [
    "from IPython.display import display, Markdown\n",
    "\n",
    "llama_debug_handler.flush_event_logs()\n",
    "response = query_engine.query(\n",
    "    \"水平対向エンジンの歴史を搭載車両を含めて教えて下さい。\",\n",
    ")\n",
    "display(Markdown(f\"{response}\"))"
   ]
  },
  {
   "cell_type": "code",
   "execution_count": 74,
   "metadata": {},
   "outputs": [
    {
     "name": "stdout",
     "output_type": "stream",
     "text": [
      "\u001b[31m~~~~~~~~ Event ~~~~~~~~\u001b[0m\n",
      "\u001b[44m~~~~ Request ~~~~\u001b[0m\n",
      "\u001b[32mRole: MessageRole.USER\u001b[0m\n",
      "content: A question is provided below. Given the question, extract up to 5 keywords from the text. Focus on extracting the keywords that we can use to best lookup answers to the question. Avoid stopwords.\n",
      "---------------------\n",
      "水平対向エンジンの歴史を搭載車両を含めて教えて下さい。\n",
      "---------------------\n",
      "Provide keywords in the following comma-separated format: 'KEYWORDS: <keywords>'\n",
      "\n",
      "\u001b[46m~~~~~ Response ~~~~\u001b[0m\n",
      "Role: MessageRole.ASSISTANT\n",
      "content: KEYWORDS: 水平対向エンジン, 歴史, 搭載車両\n",
      "\u001b[31m~~~~~~~~ Event ~~~~~~~~\u001b[0m\n",
      "\u001b[44m~~~~ Request ~~~~\u001b[0m\n",
      "\u001b[32mRole: MessageRole.USER\u001b[0m\n",
      "content: \n",
      "Generate synonyms or possible form of keywords up to 5 in total,\n",
      "considering possible cases of capitalization, pluralization, common expressions, etc.\n",
      "Provide all synonyms of keywords in comma-separated format: 'SYNONYMS: <keywords>'\n",
      "Note, result should be in one-line with only one 'SYNONYMS: ' prefix\n",
      "----\n",
      "KEYWORDS: ['水平対向エンジン', '歴史', '搭載車両']\n",
      "----\n",
      "\n",
      "\u001b[46m~~~~~ Response ~~~~\u001b[0m\n",
      "Role: MessageRole.ASSISTANT\n",
      "content: SYNONYMS: 水平対向エンジン, 歴史, 搭載車両, Horizontal opposed engine, History, Vehicles equipped\n",
      "\u001b[31m~~~~~~~~ Event ~~~~~~~~\u001b[0m\n",
      "\u001b[44m~~~~ Request ~~~~\u001b[0m\n",
      "\u001b[32mRole: MessageRole.SYSTEM\u001b[0m\n",
      "content: You are an expert Q&A system that is trusted around the world.\n",
      "Always answer the query using the provided context information, and not prior knowledge.\n",
      "Some rules to follow:\n",
      "1. Never directly reference the given context in your answer.\n",
      "2. Avoid statements like 'Based on the context, ...' or 'The context information ...' or anything along those lines.\n",
      "\u001b[32mRole: MessageRole.USER\u001b[0m\n",
      "content: Context information is below.\n",
      "---------------------\n",
      "The following are knowledge sequence in max depth 2 in the form of directed graph like:\n",
      "`subject -[predicate]->, object, <-[predicate_next_hop]-, object_next_hop ...` extracted based on key entities as subject:\n",
      "水平対向エンジン{name: 水平対向エンジン} <-[relationship:{relationship: 搭載している}]- Subaru{name: Subaru} -[relationship:{relationship: 水平対向エンジンで駆動する}]-> 前置きエンジン・4輪駆動配置{name: 前置きエンジン・4輪駆動配置}\n",
      "水平対向エンジン{name: 水平対向エンジン} <-[relationship:{relationship: 搭載している}]- Subaru{name: Subaru} -[relationship:{relationship: Describes}]-> 180 degree v12 engine as horizontally opposed 12 cylinders{name: 180 degree v12 engine as horizontally opposed 12 cylinders}\n",
      "水平対向エンジン{name: 水平対向エンジン} <-[relationship:{relationship: する}]- ボクサーエンジン{name: ボクサーエンジン} -[relationship:{relationship: 全長が}]-> 短い{name: 短い}\n",
      "水平対向エンジン{name: 水平対向エンジン} <-[relationship:{relationship: する}]- ボクサーエンジン{name: ボクサーエンジン} -[relationship:{relationship: 水平対向2気筒設計であった}]-> Kontraエンジン{name: Kontraエンジン}\n",
      "水平対向エンジン{name: 水平対向エンジン} <-[relationship:{relationship: 搭載している}]- Subaru{name: Subaru} -[relationship:{relationship: Oem供給されていた}]-> 製品{name: 製品}\n",
      "水平対向エンジン{name: 水平対向エンジン} <-[relationship:{relationship: する}]- ボクサーエンジン{name: ボクサーエンジン} -[relationship:{relationship: 独立していて}]-> クランクピン{name: クランクピン}\n",
      "水平対向エンジン{name: 水平対向エンジン} <-[relationship:{relationship: する}]- ボクサーエンジン{name: ボクサーエンジン} -[relationship:{relationship: 独立していて}]-> 180° 位相{name: 180° 位相}\n",
      "水平対向エンジン{name: 水平対向エンジン} <-[relationship:{relationship: 搭載している}]- トヨタ{name: トヨタ} -[relationship:{relationship: 呼んでいる}]-> トヨタ4u-gse{name: トヨタ4u-gse}\n",
      "水平対向エンジン{name: 水平対向エンジン} <-[relationship:{relationship: する}]- ボクサーエンジン{name: ボクサーエンジン} -[relationship:{relationship: 相殺する}]-> 2次以上の振動{name: 2次以上の振動}\n",
      "水平対向エンジン{name: 水平対向エンジン} <-[relationship:{relationship: する}]- ボクサーエンジン{name: ボクサーエンジン} -[relationship:{relationship: 一対となる}]-> 2つのシリンダー{name: 2つのシリンダー}\n",
      "水平対向エンジン{name: 水平対向エンジン} <-[relationship:{relationship: する}]- ボクサーエンジン{name: ボクサーエンジン} -[relationship:{relationship: 発生する}]-> 揺動偶力（振動）が{name: 揺動偶力（振動）が}\n",
      "水平対向エンジン{name: 水平対向エンジン} <-[relationship:{relationship: する}]- ボクサーエンジン{name: ボクサーエンジン} -[relationship:{relationship: 採用している}]-> ボクサー構成{name: ボクサー構成}\n",
      "水平対向エンジン{name: 水平対向エンジン} <-[relationship:{relationship: する}]- ボクサーエンジン{name: ボクサーエンジン} -[relationship:{relationship: 比較して}]-> 直列型などの他形式エンジンと{name: 直列型などの他形式エンジンと}\n",
      "水平対向エンジン{name: 水平対向エンジン} <-[relationship:{relationship: する}]- ボクサーエンジン{name: ボクサーエンジン} -[relationship:{relationship: 比較して}]-> 直列エンジン{name: 直列エンジン}\n",
      "水平対向エンジン{name: 水平対向エンジン} <-[relationship:{relationship: する}]- ボクサーエンジン{name: ボクサーエンジン} -[relationship:{relationship: 低振動となる}]-> 格段に{name: 格段に}\n",
      "水平対向エンジン{name: 水平対向エンジン} <-[relationship:{relationship: する}]- ボクサーエンジン{name: ボクサーエンジン} -[relationship:{relationship: 砕ける}]-> 表現{name: 表現}\n",
      "水平対向エンジン{name: 水平対向エンジン} <-[relationship:{relationship: する}]- ボクサーエンジン{name: ボクサーエンジン} <-[relationship:{relationship: 開発している}]- ホンダ{name: ホンダ}\n",
      "水平対向エンジン{name: 水平対向エンジン} <-[relationship:{relationship: する}]- ボクサーエンジン{name: ボクサーエンジン} <-[relationship:{relationship: 開発を続けている}]- 本田技研工業{name: 本田技研工業}\n",
      "水平対向エンジン{name: 水平対向エンジン} <-[relationship:{relationship: する}]- ボクサーエンジン{name: ボクサーエンジン} <-[relationship:{relationship: 生産している}]- 長江モーターワークス{name: 長江モーターワークス}\n",
      "水平対向エンジン{name: 水平対向エンジン} <-[relationship:{relationship: する}]- ボクサーエンジン{name: ボクサーエンジン} <-[relationship:{relationship: 生産している}]- ウラルモト{name: ウラルモト}\n",
      "水平対向エンジン{name: 水平対向エンジン} <-[relationship:{relationship: する}]- ボクサーエンジン{name: ボクサーエンジン} <-[relationship:{relationship: 生産している}]- Bmw{name: Bmw}\n",
      "水平対向エンジン{name: 水平対向エンジン} <-[relationship:{relationship: する}]- ボクサーエンジン{name: ボクサーエンジン} <-[relationship:{relationship: 生産された}]- カール・ベンツ{name: カール・ベンツ}\n",
      "水平対向エンジン{name: 水平対向エンジン} <-[relationship:{relationship: 1972年から}]- Subaru{name: Subaru} -[relationship:{relationship: 水平対向エンジンで駆動する}]-> 前置きエンジン・4輪駆動配置{name: 前置きエンジン・4輪駆動配置}\n",
      "水平対向エンジン{name: 水平対向エンジン} <-[relationship:{relationship: 1972年から}]- Subaru{name: Subaru} -[relationship:{relationship: 例として}]-> スバル・レガシィ{name: スバル・レガシィ}\n",
      "水平対向エンジン{name: 水平対向エンジン} <-[relationship:{relationship: 1972年から}]- Subaru{name: Subaru} -[relationship:{relationship: 例として}]-> スバル・レオーネ{name: スバル・レオーネ}\n",
      "水平対向エンジン{name: 水平対向エンジン} <-[relationship:{relationship: する}]- ボクサーエンジン{name: ボクサーエンジン} <-[relationship:{relationship: 呼ばれる}]- 水平対向エンジン{name: 水平対向エンジン}\n",
      "水平対向エンジン{name: 水平対向エンジン} <-[relationship:{relationship: 1972年から}]- Subaru{name: Subaru} -[relationship:{relationship: 例として}]-> スバル・インプレッサ{name: スバル・インプレッサ}\n",
      "水平対向エンジン{name: 水平対向エンジン} <-[relationship:{relationship: 下側に配置}]- 排気系{name: 排気系} -[relationship:{relationship: 取り回しによって}]-> エンジン搭載位置{name: エンジン搭載位置}\n",
      "水平対向エンジン{name: 水平対向エンジン} <-[relationship:{relationship: 下側に配置}]- 排気系{name: 排気系} -[relationship:{relationship: 影響が大きい}]-> 太い配管{name: 太い配管}\n",
      "水平対向エンジン{name: 水平対向エンジン} <-[relationship:{relationship: 下側に配置}]- 排気系{name: 排気系} <-[relationship:{relationship: 行う}]- 排ガス対策{name: 排ガス対策}\n",
      "---------------------\n",
      "Given the context information and not prior knowledge, answer the query.\n",
      "Query: 水平対向エンジンの歴史を搭載車両を含めて教えて下さい。\n",
      "Answer: \n",
      "\u001b[46m~~~~~ Response ~~~~\u001b[0m\n",
      "Role: MessageRole.ASSISTANT\n",
      "content: Subaruは水平対向エンジンを搭載している車両の歴史を持っており、1972年から水平対向エンジンで駆動する前置きエンジン・4輪駆動配置やスバル・レガシィ、スバル・レオーネ、スバル・インプレッサなどの車両に水平対向エンジンが搭載されています。\n"
     ]
    }
   ],
   "source": [
    "print_llm_logs(llama_debug_handler.get_llm_inputs_outputs())"
   ]
  }
 ],
 "metadata": {
  "kernelspec": {
   "display_name": ".venv",
   "language": "python",
   "name": "python3"
  },
  "language_info": {
   "codemirror_mode": {
    "name": "ipython",
    "version": 3
   },
   "file_extension": ".py",
   "mimetype": "text/x-python",
   "name": "python",
   "nbconvert_exporter": "python",
   "pygments_lexer": "ipython3",
   "version": "3.11.8"
  }
 },
 "nbformat": 4,
 "nbformat_minor": 2
}
